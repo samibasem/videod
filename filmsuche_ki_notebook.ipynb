# Zelle 1 – Pakete installieren
!pip install -q sentence-transformers faiss-cpu googlesearch-python beautifulsoup4 lxml

# Zelle 2 – Imports
from sentence_transformers import SentenceTransformer
from googlesearch import search
import faiss
import numpy as np
import requests
from bs4 import BeautifulSoup
import re

# Zelle 3 – Multilinguales Modell laden (Deutsch & Arabisch unterstützt)
model = SentenceTransformer('distiluse-base-multilingual-cased-v1')

# Zelle 4 – Funktion: Webseiten-Text extrahieren
def scrape_text_from_url(url):
    try:
        headers = {'User-Agent': 'Mozilla/5.0'}
        response = requests.get(url, headers=headers, timeout=10)
        soup = BeautifulSoup(response.text, 'lxml')
        paragraphs = soup.find_all('p')
        text = ' '.join(p.get_text() for p in paragraphs)
        text = re.sub(r'\s+', ' ', text).strip()
        return text if len(text) > 100 else ''
    except:
        return ''

# Zelle 5 – Funktion: Film semantisch suchen
def film_suche(query, max_urls=10, top_k=5, sprache='de'):
    print("Suche im Web…")
    sites = ["de.wikipedia.org", "filmstarts.de", "moviepilot.de", "ar.wikipedia.org", "elcinema.com"]
    query_sites = " OR ".join(f"site:{s}" for s in sites)
    full_query = f"{query} {query_sites}"

    urls = []
    for result in search(full_query, lang=sprache):
        urls.append(result)
        if len(urls) >= max_urls:
            break

    print(f"{len(urls)} URLs gefunden.")

    docs, sources = [], []
    for url in urls:
        text = scrape_text_from_url(url)
        if text:
            docs.append(text)
            sources.append(url)

    if not docs:
        print("Keine Inhalte gefunden.")
        return

    doc_emb = model.encode(docs, convert_to_numpy=True)
    index = faiss.IndexFlatL2(doc_emb.shape[1])
    index.add(doc_emb)

    q_emb = model.encode([query], convert_to_numpy=True)
    D, I = index.search(q_emb, top_k)

    print("\nTop-Ergebnisse:")
    for idx in I[0]:
        print("---")
        print(f"Quelle: {sources[idx]}")
        print(docs[idx][:500] + '...')

# Zelle 6 – Beispiel: Deutsch
film_suche("Film mit Motorrad und Zeitreise in den 80ern", sprache='de')

# Zelle 7 – Beispiel: Arabisch
# film_suche("فيلم يتحدث عن السفر عبر الزمن في الثمانينات", sprache='ar')
